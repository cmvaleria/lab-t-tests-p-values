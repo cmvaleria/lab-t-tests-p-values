{
 "cells": [
  {
   "cell_type": "markdown",
   "id": "7bfe6276",
   "metadata": {},
   "source": [
    "# Lab | Inferential statistics - T-test & P-value"
   ]
  },
  {
   "cell_type": "markdown",
   "id": "57f90af3",
   "metadata": {},
   "source": [
    "#### 1. One tailed t-test - In a packing plant, a machine packs cartons with jars. It is supposed that a new machine will pack faster on the average than the machine currently used. To test that hypothesis, the times it takes each machine to pack ten cartons are recorded. The results, in seconds, are shown in the tables in the file files_for_lab/machine.txt. Assume that there is sufficient evidence to conduct the t test, does the data provide sufficient evidence to show if one machine is better than the other?\n",
    "\n",
    "<br>\n",
    "\n"
   ]
  },
  {
   "cell_type": "code",
   "execution_count": 45,
   "id": "db60a2d1",
   "metadata": {},
   "outputs": [],
   "source": [
    "import pandas as pd\n",
    "import numpy as np\n",
    "import scipy.stats as st"
   ]
  },
  {
   "cell_type": "code",
   "execution_count": 26,
   "id": "14cf4024",
   "metadata": {},
   "outputs": [],
   "source": [
    "data = pd.read_csv('files_for_lab/machine.txt', sep='\\t' , encoding='utf-16le')"
   ]
  },
  {
   "cell_type": "code",
   "execution_count": 27,
   "id": "4807caa4",
   "metadata": {},
   "outputs": [
    {
     "data": {
      "text/html": [
       "<div>\n",
       "<style scoped>\n",
       "    .dataframe tbody tr th:only-of-type {\n",
       "        vertical-align: middle;\n",
       "    }\n",
       "\n",
       "    .dataframe tbody tr th {\n",
       "        vertical-align: top;\n",
       "    }\n",
       "\n",
       "    .dataframe thead th {\n",
       "        text-align: right;\n",
       "    }\n",
       "</style>\n",
       "<table border=\"1\" class=\"dataframe\">\n",
       "  <thead>\n",
       "    <tr style=\"text-align: right;\">\n",
       "      <th></th>\n",
       "      <th>New machine</th>\n",
       "      <th>Old machine</th>\n",
       "    </tr>\n",
       "  </thead>\n",
       "  <tbody>\n",
       "    <tr>\n",
       "      <th>0</th>\n",
       "      <td>42.1</td>\n",
       "      <td>42.7</td>\n",
       "    </tr>\n",
       "    <tr>\n",
       "      <th>1</th>\n",
       "      <td>41.0</td>\n",
       "      <td>43.6</td>\n",
       "    </tr>\n",
       "    <tr>\n",
       "      <th>2</th>\n",
       "      <td>41.3</td>\n",
       "      <td>43.8</td>\n",
       "    </tr>\n",
       "    <tr>\n",
       "      <th>3</th>\n",
       "      <td>41.8</td>\n",
       "      <td>43.3</td>\n",
       "    </tr>\n",
       "    <tr>\n",
       "      <th>4</th>\n",
       "      <td>42.4</td>\n",
       "      <td>42.5</td>\n",
       "    </tr>\n",
       "  </tbody>\n",
       "</table>\n",
       "</div>"
      ],
      "text/plain": [
       "   New machine      Old machine\n",
       "0         42.1             42.7\n",
       "1         41.0             43.6\n",
       "2         41.3             43.8\n",
       "3         41.8             43.3\n",
       "4         42.4             42.5"
      ]
     },
     "execution_count": 27,
     "metadata": {},
     "output_type": "execute_result"
    }
   ],
   "source": [
    "data.head()"
   ]
  },
  {
   "cell_type": "code",
   "execution_count": 36,
   "id": "fc6a59d1",
   "metadata": {},
   "outputs": [],
   "source": [
    "data.columns = ['new_machine','old_machine']"
   ]
  },
  {
   "cell_type": "markdown",
   "id": "ef3c9059",
   "metadata": {},
   "source": [
    "Hypothesis: New machine mean > Old machine mean"
   ]
  },
  {
   "cell_type": "code",
   "execution_count": 46,
   "id": "457537e6",
   "metadata": {},
   "outputs": [
    {
     "name": "stdout",
     "output_type": "stream",
     "text": [
      "Population mean is: 43.23\n",
      "\n",
      "Our sample mean is: 42.14\n",
      "Our sample standard deviation is: 0.68\n",
      "The sem is: 0.24\n",
      "\n",
      "Our statistic is: -4.60\n",
      "The p_value corresponding to our statistic is: 0.00\n",
      "The significance level is set to 0.05\n",
      "We accept the H0?\n"
     ]
    }
   ],
   "source": [
    "sample_mean = data['new_machine'].mean()\n",
    "sample_std = data['new_machine'].std(ddof=1)\n",
    "pop_mean = data['old_machine'].mean()\n",
    "pop_std = data['old_machine'].std()\n",
    "\n",
    "sem = pop_std/np.sqrt(data.shape[0])\n",
    "print(\"Population mean is: {:.2f}\".format(pop_mean))\n",
    "print()\n",
    "print(\"Our sample mean is: {:.2f}\".format(sample_mean))\n",
    "print(\"Our sample standard deviation is: {:.2f}\".format(sample_std))\n",
    "print(\"The sem is: {:.2f}\".format(sem))\n",
    "print()\n",
    "t = (sample_mean - pop_mean) / sem\n",
    "print(\"Our statistic is: {:.2f}\".format(t))\n",
    "print(\"The p_value corresponding to our statistic is: {:.2f}\".format(st.t.cdf(t,df = len(data['new_machine'])-1)))\n",
    "print(\"The significance level is set to 0.05\")\n",
    "print(\"We accept the H0?\")"
   ]
  },
  {
   "cell_type": "markdown",
   "id": "5b635165",
   "metadata": {},
   "source": [
    "There is no evidence to support the H0, we reject. "
   ]
  },
  {
   "cell_type": "code",
   "execution_count": 49,
   "id": "92a7bc9e",
   "metadata": {},
   "outputs": [
    {
     "name": "stdout",
     "output_type": "stream",
     "text": [
      "The t statistic of our sample is: -5.04 and the corresponding p-value is: 0.00\n"
     ]
    }
   ],
   "source": [
    "t_statistic, p_value = st.ttest_1samp(data['new_machine'], popmean = 43.23, alternative = \"less\")\n",
    "print(\"The t statistic of our sample is: {:.2f} and the corresponding p-value is: {:.2f}\".format(t_statistic, p_value))"
   ]
  },
  {
   "cell_type": "markdown",
   "id": "402acc96",
   "metadata": {},
   "source": [
    "#### 2. Matched Pairs Test - In this challenge we will compare dependent samples of data describing our Pokemon (file files_for_lab/pokemon.csv). Our goal is to see whether there is a significant difference between each Pokemon's defense and attack scores. Our hypothesis is that the defense and attack scores are equal. Compare the two columns to see if there is a statistically significant difference between them and comment your result.\n",
    "\n",
    "<br>"
   ]
  },
  {
   "cell_type": "code",
   "execution_count": 51,
   "id": "7525603e",
   "metadata": {},
   "outputs": [
    {
     "data": {
      "text/html": [
       "<div>\n",
       "<style scoped>\n",
       "    .dataframe tbody tr th:only-of-type {\n",
       "        vertical-align: middle;\n",
       "    }\n",
       "\n",
       "    .dataframe tbody tr th {\n",
       "        vertical-align: top;\n",
       "    }\n",
       "\n",
       "    .dataframe thead th {\n",
       "        text-align: right;\n",
       "    }\n",
       "</style>\n",
       "<table border=\"1\" class=\"dataframe\">\n",
       "  <thead>\n",
       "    <tr style=\"text-align: right;\">\n",
       "      <th></th>\n",
       "      <th>#</th>\n",
       "      <th>Name</th>\n",
       "      <th>Type 1</th>\n",
       "      <th>Type 2</th>\n",
       "      <th>Total</th>\n",
       "      <th>HP</th>\n",
       "      <th>Attack</th>\n",
       "      <th>Defense</th>\n",
       "      <th>Sp. Atk</th>\n",
       "      <th>Sp. Def</th>\n",
       "      <th>Speed</th>\n",
       "      <th>Generation</th>\n",
       "      <th>Legendary</th>\n",
       "    </tr>\n",
       "  </thead>\n",
       "  <tbody>\n",
       "    <tr>\n",
       "      <th>0</th>\n",
       "      <td>1</td>\n",
       "      <td>Bulbasaur</td>\n",
       "      <td>Grass</td>\n",
       "      <td>Poison</td>\n",
       "      <td>318</td>\n",
       "      <td>45</td>\n",
       "      <td>49</td>\n",
       "      <td>49</td>\n",
       "      <td>65</td>\n",
       "      <td>65</td>\n",
       "      <td>45</td>\n",
       "      <td>1</td>\n",
       "      <td>False</td>\n",
       "    </tr>\n",
       "    <tr>\n",
       "      <th>1</th>\n",
       "      <td>2</td>\n",
       "      <td>Ivysaur</td>\n",
       "      <td>Grass</td>\n",
       "      <td>Poison</td>\n",
       "      <td>405</td>\n",
       "      <td>60</td>\n",
       "      <td>62</td>\n",
       "      <td>63</td>\n",
       "      <td>80</td>\n",
       "      <td>80</td>\n",
       "      <td>60</td>\n",
       "      <td>1</td>\n",
       "      <td>False</td>\n",
       "    </tr>\n",
       "    <tr>\n",
       "      <th>2</th>\n",
       "      <td>3</td>\n",
       "      <td>Venusaur</td>\n",
       "      <td>Grass</td>\n",
       "      <td>Poison</td>\n",
       "      <td>525</td>\n",
       "      <td>80</td>\n",
       "      <td>82</td>\n",
       "      <td>83</td>\n",
       "      <td>100</td>\n",
       "      <td>100</td>\n",
       "      <td>80</td>\n",
       "      <td>1</td>\n",
       "      <td>False</td>\n",
       "    </tr>\n",
       "    <tr>\n",
       "      <th>3</th>\n",
       "      <td>3</td>\n",
       "      <td>VenusaurMega Venusaur</td>\n",
       "      <td>Grass</td>\n",
       "      <td>Poison</td>\n",
       "      <td>625</td>\n",
       "      <td>80</td>\n",
       "      <td>100</td>\n",
       "      <td>123</td>\n",
       "      <td>122</td>\n",
       "      <td>120</td>\n",
       "      <td>80</td>\n",
       "      <td>1</td>\n",
       "      <td>False</td>\n",
       "    </tr>\n",
       "    <tr>\n",
       "      <th>4</th>\n",
       "      <td>4</td>\n",
       "      <td>Charmander</td>\n",
       "      <td>Fire</td>\n",
       "      <td>NaN</td>\n",
       "      <td>309</td>\n",
       "      <td>39</td>\n",
       "      <td>52</td>\n",
       "      <td>43</td>\n",
       "      <td>60</td>\n",
       "      <td>50</td>\n",
       "      <td>65</td>\n",
       "      <td>1</td>\n",
       "      <td>False</td>\n",
       "    </tr>\n",
       "  </tbody>\n",
       "</table>\n",
       "</div>"
      ],
      "text/plain": [
       "   #                   Name Type 1  Type 2  Total  HP  Attack  Defense  \\\n",
       "0  1              Bulbasaur  Grass  Poison    318  45      49       49   \n",
       "1  2                Ivysaur  Grass  Poison    405  60      62       63   \n",
       "2  3               Venusaur  Grass  Poison    525  80      82       83   \n",
       "3  3  VenusaurMega Venusaur  Grass  Poison    625  80     100      123   \n",
       "4  4             Charmander   Fire     NaN    309  39      52       43   \n",
       "\n",
       "   Sp. Atk  Sp. Def  Speed  Generation  Legendary  \n",
       "0       65       65     45           1      False  \n",
       "1       80       80     60           1      False  \n",
       "2      100      100     80           1      False  \n",
       "3      122      120     80           1      False  \n",
       "4       60       50     65           1      False  "
      ]
     },
     "execution_count": 51,
     "metadata": {},
     "output_type": "execute_result"
    }
   ],
   "source": [
    "pokemon_data = pd.read_csv('files_for_lab/pokemon.csv')\n",
    "pokemon_data.head()"
   ]
  },
  {
   "cell_type": "markdown",
   "id": "d4cc4a19",
   "metadata": {},
   "source": [
    "H0: Defense.mean() = Attack.mean()\n",
    "\n",
    "H1: Defense.mean() != Attack.mean()"
   ]
  },
  {
   "cell_type": "code",
   "execution_count": 54,
   "id": "375acb2d",
   "metadata": {},
   "outputs": [
    {
     "name": "stdout",
     "output_type": "stream",
     "text": [
      "Population mean is: 79.00\n",
      "\n",
      "Our sample mean is: 73.84\n",
      "Our sample standard deviation is: 31.18\n",
      "The sem is: 1.15\n",
      "\n",
      "Our statistic is: -4.50\n",
      "The p_value corresponding to our statistic is: 0.00\n",
      "The significance level is set to 0.05/2\n",
      "We accept the H0?\n"
     ]
    }
   ],
   "source": [
    "sample_mean = pokemon_data['Defense'].mean()\n",
    "sample_std = pokemon_data['Defense'].std(ddof=1)\n",
    "pop_mean = pokemon_data['Attack'].mean()\n",
    "pop_std = pokemon_data['Attack'].std()\n",
    "\n",
    "sem = pop_std/np.sqrt(pokemon_data.shape[0])\n",
    "print(\"Population mean is: {:.2f}\".format(pop_mean))\n",
    "print()\n",
    "print(\"Our sample mean is: {:.2f}\".format(sample_mean))\n",
    "print(\"Our sample standard deviation is: {:.2f}\".format(sample_std))\n",
    "print(\"The sem is: {:.2f}\".format(sem))\n",
    "print()\n",
    "t = (sample_mean - pop_mean) / sem\n",
    "print(\"Our statistic is: {:.2f}\".format(t))\n",
    "print(\"The p_value corresponding to our statistic is: {:.2f}\".format(st.t.cdf(t,df = len(pokemon_data['Defense'])-1)))\n",
    "print(\"The significance level is set to 0.05/2\")\n",
    "print(\"We accept the H0?\")"
   ]
  },
  {
   "cell_type": "code",
   "execution_count": 53,
   "id": "aca6d3a2",
   "metadata": {},
   "outputs": [
    {
     "name": "stdout",
     "output_type": "stream",
     "text": [
      "The t statistic of our sample is: -4.68 and the corresponding p-value is: 0.00\n"
     ]
    }
   ],
   "source": [
    "t_statistic, p_value = st.ttest_1samp(pokemon_data['Defense'], popmean = 79, alternative = \"two-sided\")\n",
    "print(\"The t statistic of our sample is: {:.2f} and the corresponding p-value is: {:.2f}\".format(t_statistic, p_value))"
   ]
  },
  {
   "cell_type": "markdown",
   "id": "9f14da4c",
   "metadata": {},
   "source": [
    "P(x<=t)=0.0 < 0.05/2=0.025\n",
    "\n",
    "We reject the H0 --> defense and attack scores are not equal.  "
   ]
  },
  {
   "cell_type": "markdown",
   "id": "3116d8ef",
   "metadata": {},
   "source": [
    "### OPTIONAL PART | Inferential statistics - ANOVA"
   ]
  },
  {
   "cell_type": "markdown",
   "id": "3e40fc75",
   "metadata": {},
   "source": [
    "### Part 1 & 2"
   ]
  },
  {
   "cell_type": "markdown",
   "id": "7dcefe3f",
   "metadata": {},
   "source": [
    "Suppose you are working as an analyst in a microprocessor chip manufacturing plant. You have been given the task of analyzing a plasma etching process with respect to changing Power (in Watts) of the plasma beam. Data was collected and provided to you to conduct statistical analysis and check if changing the power of the plasma beam has any effect on the etching rate by the machine. You will conduct ANOVA and <font color='blue'>check if there is any difference in the mean etching rate for different levels of power</font>. You can find the data anova_lab_data.xlsx file in the files_for_lab folder"
   ]
  },
  {
   "cell_type": "code",
   "execution_count": 55,
   "id": "2bdae67a",
   "metadata": {},
   "outputs": [
    {
     "data": {
      "text/html": [
       "<div>\n",
       "<style scoped>\n",
       "    .dataframe tbody tr th:only-of-type {\n",
       "        vertical-align: middle;\n",
       "    }\n",
       "\n",
       "    .dataframe tbody tr th {\n",
       "        vertical-align: top;\n",
       "    }\n",
       "\n",
       "    .dataframe thead th {\n",
       "        text-align: right;\n",
       "    }\n",
       "</style>\n",
       "<table border=\"1\" class=\"dataframe\">\n",
       "  <thead>\n",
       "    <tr style=\"text-align: right;\">\n",
       "      <th></th>\n",
       "      <th>Power</th>\n",
       "      <th>Etching Rate</th>\n",
       "    </tr>\n",
       "  </thead>\n",
       "  <tbody>\n",
       "    <tr>\n",
       "      <th>0</th>\n",
       "      <td>160 W</td>\n",
       "      <td>5.43</td>\n",
       "    </tr>\n",
       "    <tr>\n",
       "      <th>1</th>\n",
       "      <td>180 W</td>\n",
       "      <td>6.24</td>\n",
       "    </tr>\n",
       "    <tr>\n",
       "      <th>2</th>\n",
       "      <td>200 W</td>\n",
       "      <td>8.79</td>\n",
       "    </tr>\n",
       "    <tr>\n",
       "      <th>3</th>\n",
       "      <td>160 W</td>\n",
       "      <td>5.71</td>\n",
       "    </tr>\n",
       "    <tr>\n",
       "      <th>4</th>\n",
       "      <td>180 W</td>\n",
       "      <td>6.71</td>\n",
       "    </tr>\n",
       "  </tbody>\n",
       "</table>\n",
       "</div>"
      ],
      "text/plain": [
       "  Power   Etching Rate\n",
       "0  160 W          5.43\n",
       "1  180 W          6.24\n",
       "2  200 W          8.79\n",
       "3  160 W          5.71\n",
       "4  180 W          6.71"
      ]
     },
     "execution_count": 55,
     "metadata": {},
     "output_type": "execute_result"
    }
   ],
   "source": [
    "data_anova = pd.read_excel('files_for_lab/anova_lab_data.xlsx')\n",
    "data_anova.head()"
   ]
  },
  {
   "cell_type": "code",
   "execution_count": 59,
   "id": "5f6a915d",
   "metadata": {},
   "outputs": [],
   "source": [
    "data_anova.columns = ['power','etchint_rate']"
   ]
  },
  {
   "cell_type": "code",
   "execution_count": 61,
   "id": "e595be1d",
   "metadata": {},
   "outputs": [
    {
     "data": {
      "text/plain": [
       "array(['160 W', '180 W', '200 W'], dtype=object)"
      ]
     },
     "execution_count": 61,
     "metadata": {},
     "output_type": "execute_result"
    }
   ],
   "source": [
    "data_anova['power'].unique()"
   ]
  },
  {
   "cell_type": "code",
   "execution_count": 72,
   "id": "c34335f5",
   "metadata": {},
   "outputs": [
    {
     "data": {
      "text/html": [
       "<div>\n",
       "<style scoped>\n",
       "    .dataframe tbody tr th:only-of-type {\n",
       "        vertical-align: middle;\n",
       "    }\n",
       "\n",
       "    .dataframe tbody tr th {\n",
       "        vertical-align: top;\n",
       "    }\n",
       "\n",
       "    .dataframe thead th {\n",
       "        text-align: right;\n",
       "    }\n",
       "</style>\n",
       "<table border=\"1\" class=\"dataframe\">\n",
       "  <thead>\n",
       "    <tr style=\"text-align: right;\">\n",
       "      <th></th>\n",
       "      <th>power</th>\n",
       "      <th>etchint_rate</th>\n",
       "    </tr>\n",
       "  </thead>\n",
       "  <tbody>\n",
       "    <tr>\n",
       "      <th>0</th>\n",
       "      <td>160 W</td>\n",
       "      <td>5.792</td>\n",
       "    </tr>\n",
       "    <tr>\n",
       "      <th>1</th>\n",
       "      <td>180 W</td>\n",
       "      <td>6.238</td>\n",
       "    </tr>\n",
       "    <tr>\n",
       "      <th>2</th>\n",
       "      <td>200 W</td>\n",
       "      <td>8.318</td>\n",
       "    </tr>\n",
       "  </tbody>\n",
       "</table>\n",
       "</div>"
      ],
      "text/plain": [
       "   power  etchint_rate\n",
       "0  160 W         5.792\n",
       "1  180 W         6.238\n",
       "2  200 W         8.318"
      ]
     },
     "execution_count": 72,
     "metadata": {},
     "output_type": "execute_result"
    }
   ],
   "source": [
    "group_df = data_anova.groupby('power')['etchint_rate'].mean().reset_index()\n",
    "group_df"
   ]
  },
  {
   "cell_type": "markdown",
   "id": "fd198e0d",
   "metadata": {},
   "source": [
    "#### Hypothesis"
   ]
  },
  {
   "cell_type": "markdown",
   "id": "cedcd817",
   "metadata": {},
   "source": [
    "$$H0: \\mu_{1}=\\mu_{2}=\\mu_{3}$$\n",
    "$$H1: \\mu_{1}\\neq\\mu_{2}\\neq\\mu_{3}$$"
   ]
  },
  {
   "cell_type": "code",
   "execution_count": 76,
   "id": "55dd48b9",
   "metadata": {},
   "outputs": [],
   "source": [
    "df_160w = data_anova[data_anova['power'] == '160 W']\n",
    "df_180w = data_anova[data_anova['power'] == '180 W']\n",
    "df_200w = data_anova[data_anova['power'] == '200 W']"
   ]
  },
  {
   "cell_type": "code",
   "execution_count": 79,
   "id": "a6a5b839",
   "metadata": {},
   "outputs": [
    {
     "name": "stdout",
     "output_type": "stream",
     "text": [
      "ANOVA F:  36.87895470100505\n",
      "p_value:  7.506584272358903e-06\n"
     ]
    }
   ],
   "source": [
    "import scipy.stats as stats\n",
    "\n",
    "# ANOVA F and p value\n",
    "fvalue, pvalue = stats.f_oneway(df_160w['etchint_rate'], df_180w['etchint_rate'], df_200w['etchint_rate'])\n",
    "print('ANOVA F: ', fvalue)\n",
    "print('p_value: ', pvalue)\n"
   ]
  },
  {
   "cell_type": "markdown",
   "id": "573dfe6f",
   "metadata": {},
   "source": [
    "As the p_value is < 0.05 we reject H0."
   ]
  }
 ],
 "metadata": {
  "kernelspec": {
   "display_name": "Python 3 (ipykernel)",
   "language": "python",
   "name": "python3"
  },
  "language_info": {
   "codemirror_mode": {
    "name": "ipython",
    "version": 3
   },
   "file_extension": ".py",
   "mimetype": "text/x-python",
   "name": "python",
   "nbconvert_exporter": "python",
   "pygments_lexer": "ipython3",
   "version": "3.9.13"
  }
 },
 "nbformat": 4,
 "nbformat_minor": 5
}
